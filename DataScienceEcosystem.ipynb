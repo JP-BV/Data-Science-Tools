{
 "cells": [
  {
   "cell_type": "markdown",
   "id": "18498e82",
   "metadata": {},
   "source": [
    "Exercise 2: Create markdown cell with title of the notebook\n",
    "\n",
    "Create a markdown cell with the title Data Science Tools and Ecosystem using H1 style heading."
   ]
  },
  {
   "cell_type": "markdown",
   "id": "560cc5cf",
   "metadata": {},
   "source": [
    "# Data Science Tools and Ecosystem"
   ]
  },
  {
   "cell_type": "code",
   "execution_count": null,
   "id": "0ee6f923",
   "metadata": {},
   "outputs": [],
   "source": []
  },
  {
   "cell_type": "markdown",
   "id": "b6750284",
   "metadata": {},
   "source": [
    "Exercise 3 - Create a markdown cell for an introduction\n"
   ]
  },
  {
   "cell_type": "markdown",
   "id": "22698a21",
   "metadata": {},
   "source": [
    "In this notebook, Data Science Tools and Ecosystem are summarized.\n"
   ]
  },
  {
   "cell_type": "markdown",
   "id": "5c160d00",
   "metadata": {},
   "source": [
    "**Objectives:**\n",
    " - List popular languages for Data Science\n",
    " - Common libraries used by Data Scientists\n",
    " - Data Science Tools table"
   ]
  },
  {
   "cell_type": "code",
   "execution_count": null,
   "id": "b65f7a8e",
   "metadata": {},
   "outputs": [],
   "source": []
  },
  {
   "cell_type": "markdown",
   "id": "dcbf1342",
   "metadata": {},
   "source": [
    "Some of the popular languages that Data Scientists use are:\n",
    " - Python\n",
    " - R\n",
    " - SQL"
   ]
  },
  {
   "cell_type": "code",
   "execution_count": 1,
   "id": "491d4e74",
   "metadata": {},
   "outputs": [],
   "source": [
    "languages = [\"Python\" , \"R\", \"SQL\"]"
   ]
  },
  {
   "cell_type": "code",
   "execution_count": null,
   "id": "95c01b5c",
   "metadata": {},
   "outputs": [],
   "source": []
  },
  {
   "cell_type": "markdown",
   "id": "abb8a901",
   "metadata": {},
   "source": [
    "Some of the commonly used libraries used by Data Scientists include:\n",
    " - Pandas\n",
    " - Numpy\n",
    " - Pytorch\n",
    " - SciKit-Learn"
   ]
  },
  {
   "cell_type": "code",
   "execution_count": null,
   "id": "096bbfd6",
   "metadata": {},
   "outputs": [],
   "source": [
    "Libraries = [\"Pandas\", \"Numpy\", \"Pytorch\", \"SciKit-Learn\"]"
   ]
  },
  {
   "cell_type": "markdown",
   "id": "5300ae12",
   "metadata": {},
   "source": [
    "| Data Science Tools|\n",
    "|:--------:|\n",
    "| Jupyter Notebooks|\n",
    "| Python Libraries| \n",
    "| Data Visualization Tools| \n"
   ]
  },
  {
   "cell_type": "code",
   "execution_count": null,
   "id": "6727bde8",
   "metadata": {},
   "outputs": [],
   "source": []
  },
  {
   "cell_type": "markdown",
   "id": "562b2b97",
   "metadata": {},
   "source": [
    "### Below are a few examples of evaluating arithmetic expressions in Python"
   ]
  },
  {
   "cell_type": "code",
   "execution_count": null,
   "id": "7c4799bc",
   "metadata": {},
   "outputs": [],
   "source": []
  },
  {
   "cell_type": "code",
   "execution_count": 3,
   "id": "9b3710ab",
   "metadata": {},
   "outputs": [],
   "source": []
  },
  {
   "cell_type": "code",
   "execution_count": 2,
   "id": "0a9711c9",
   "metadata": {},
   "outputs": [
    {
     "data": {
      "text/plain": [
       "17"
      ]
     },
     "execution_count": 2,
     "metadata": {},
     "output_type": "execute_result"
    }
   ],
   "source": [
    "#This a simple arithmetic expression to mutiply then add integers\n",
    "(3*4)+5"
   ]
  },
  {
   "cell_type": "code",
   "execution_count": null,
   "id": "08babb1d",
   "metadata": {},
   "outputs": [],
   "source": []
  },
  {
   "cell_type": "code",
   "execution_count": 4,
   "id": "d43fbf38",
   "metadata": {},
   "outputs": [
    {
     "data": {
      "text/plain": [
       "10.0"
      ]
     },
     "execution_count": 4,
     "metadata": {},
     "output_type": "execute_result"
    }
   ],
   "source": [
    "#This will convert 200 minutes to hours by diving by 60 \n",
    "200/20"
   ]
  },
  {
   "cell_type": "code",
   "execution_count": null,
   "id": "54e79c99",
   "metadata": {},
   "outputs": [],
   "source": []
  },
  {
   "cell_type": "markdown",
   "id": "688fb514",
   "metadata": {},
   "source": [
    "## Autor  \n",
    "Juan  Bermúdez"
   ]
  }
 ],
 "metadata": {
  "kernelspec": {
   "display_name": "Python 3 (ipykernel)",
   "language": "python",
   "name": "python3"
  },
  "language_info": {
   "codemirror_mode": {
    "name": "ipython",
    "version": 3
   },
   "file_extension": ".py",
   "mimetype": "text/x-python",
   "name": "python",
   "nbconvert_exporter": "python",
   "pygments_lexer": "ipython3",
   "version": "3.9.12"
  }
 },
 "nbformat": 4,
 "nbformat_minor": 5
}
